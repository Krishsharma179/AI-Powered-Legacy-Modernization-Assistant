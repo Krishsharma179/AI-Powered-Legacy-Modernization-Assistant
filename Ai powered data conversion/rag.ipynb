{
 "cells": [
  {
   "cell_type": "code",
   "execution_count": 36,
   "id": "849dcfea",
   "metadata": {},
   "outputs": [],
   "source": [
    "# RAg pipeline with vector database"
   ]
  },
  {
   "cell_type": "code",
   "execution_count": 50,
   "id": "f317e7be",
   "metadata": {},
   "outputs": [],
   "source": [
    "from langchain_community.document_loaders import TextLoader\n",
    "load=TextLoader('data.txt')"
   ]
  },
  {
   "cell_type": "code",
   "execution_count": 51,
   "id": "ce0f2554",
   "metadata": {},
   "outputs": [],
   "source": [
    "docs=load.load()"
   ]
  },
  {
   "cell_type": "code",
   "execution_count": 52,
   "id": "94a663de",
   "metadata": {},
   "outputs": [
    {
     "data": {
      "text/plain": [
       "[Document(metadata={'source': 'data.txt'}, page_content='FlatFile: 00001AIBM 000445599000254205 S MIAMI BLVD--RALEIGH------NCUSA-------100000001200000002300000003400000004500000005600000006700000007800000008900000009100000010110000011120000012OCCUPATION NOTES DATA1DATA2\\nJSON:\\n{\\n\"customerId\": \"00001AIBM\",\\n\"companyName\": \"IBM\",\\n\"accountCode\": \"000445599000254205\",\\n\"statusFlag\": \"S\",\\n\"address\": \"MIAMI BLVD--\",\\n\"city\": \"RALEIGH\",\\n\"stateCountry\": \"NCUSA\",\\n\"numericData\": [1000000012, 23, 340, 450, 560, 670, 780, 890, 910, 1011, 1112]\\n\"occupation\": \"OCCUPATION\",\\n\"notes\": \"NOTES\",\\n\"extraData\": \"DATA1DATA2\"\\n}\\n\\nFlatFile: 00002AWIDGET MAKERS 000002599000064206 S OAK AVENUE--LAX----------NYUSA-------100000001200000002300000003400000004500000005600000006700000007800000008900000009100000010110000011120000012WIDGET DESIGNER WIDGET NOTES DATA1DATA2\\nJSON:\\n{\\n\"customerId\": \"00002AWIDGET MAKERS\",\\n\"companyName\": \"WIDGET MAKERS\",\\n\"accountCode\": \"000002599000064206\",\\n\"statusFlag\": \"S\",\\n\"address\": \"OAK AVENUE--\",\\n\"city\": \"LAX\",\\n\"stateCountry\": \"NYUSA\",\\n\"numericData\": [1000000012, 23, 340, 450, 560, 670, 780, 890, 910, 1011, 1112]\\n\"occupation\": \"WIDGET DESIGNER\",\\n\"notes\": \"WIDGET NOTES\",\\n\"extraData\": \"DATA1DATA2\"\\n}\\n\\nFlatFile: 00003ACAFE RTP 000003399000064208 S PINE ROAD---CHI----------CACA--------100000001200000002300000003400000004500000005600000006700000007800000008900000009100000010110000011120000012DONUT BAKER CAFE NOTES DATA1DATA2\\nJSON:\\n{\\n\"customerId\": \"00003ACAFE RTP\",\\n\"companyName\": \"CAFE RTP\",\\n\"accountCode\": \"000003399000064208\",\\n\"statusFlag\": \"S\",\\n\"address\": \"PINE ROAD---\",\\n\"city\": \"CHI\",\\n\"stateCountry\": \"CACA\",\\n\"numericData\": [1000000012, 23, 340, 450, 560, 670, 780, 890, 910, 1011, 1112]\\n\"occupation\": \"DONUT BAKER\",\\n\"notes\": \"CAFE NOTES\",\\n\"extraData\": \"DATA1DATA2\"\\n}\\n\\nFlatFile: 00004ATECH CORP 000004123000098765 S MAIN STREET-NEW YORK----NYUSA-------100000001200000002300000003400000004500000005600000006700000007800000008900000009100000010110000011120000012ENGINEER GENERAL NOTES DATA1DATA2\\nJSON:\\n{\\n\"customerId\": \"00004ATECH CORP\",\\n\"companyName\": \"TECH CORP\",\\n\"accountCode\": \"000004123000098765\",\\n\"statusFlag\": \"S\",\\n\"address\": \"MAIN STREET-\",\\n\"city\": \"NEW YORK\",\\n\"stateCountry\": \"NYUSA\",\\n\"numericData\": [1000000012, 23, 340, 450, 560, 670, 780, 890, 910, 1011, 1112]\\n\"occupation\": \"ENGINEER\",\\n\"notes\": \"GENERAL NOTES\",\\n\"extraData\": \"DATA1DATA2\"\\n}\\n\\nFlatFile: 00005AGLOBAL INC 000005987000123456 S OAK AVENUE--LOS ANGELESCAUSA-------100000001200000002300000003400000004500000005600000006700000007800000008900000009100000010110000011120000012MANAGER OFFICE NOTES DATA1DATA2\\nJSON:\\n{\\n\"customerId\": \"00005AGLOBAL INC\",\\n\"companyName\": \"GLOBAL INC\",\\n\"accountCode\": \"000005987000123456\",\\n\"statusFlag\": \"S\",\\n\"address\": \"OAK AVENUE--\",\\n\"city\": \"LOS ANGELES\",\\n\"stateCountry\": \"CAUSA\",\\n\"numericData\": [1000000012, 23, 340, 450, 560, 670, 780, 890, 910, 1011, 1112]\\n\"occupation\": \"MANAGER\",\\n\"notes\": \"OFFICE NOTES\",\\n\"extraData\": \"DATA1DATA2\"\\n}\\n\\nFlatFile: 00021ANEXUS TECH 000021999001878899 S PINE ROAD---SEATTLE---NYUSA-------100000001200000002300000003400000004500000005600000006700000007800000008900000009100000010110000011120000012ENGINEER TECH SUPPORT NOTES DATA1DATA2\\nJSON:\\n{\\n\"customerId\": \"00021ANEXUS TECH\",\\n\"companyName\": \"NEXUS TECH\",\\n\"accountCode\": \"000021999001878899\",\\n\"statusFlag\": \"S\",\\n\"address\": \"PINE ROAD---\",\\n\"city\": \"SEATTLE\",\\n\"stateCountry\": \"NYUSA\",\\n\"numericData\": [1000000012,23,340,450,560,670,780,890]\\n\"occupation\": \"ENGINEER\",\\n\"notes\": \"TECH SUPPORT NOTES\",\\n\"extraData\": \"DATA1DATA2\"\\n}\\n\\nFlatFile: 00022ABRIGHT FUTURE 000022345002334455 S MAIN STREET-CHICAGO---ILUSA-------100000001200000002300000003400000004500000005600000006700000007800000008900000009100000010110000011120000012STUDENT ACADEMIC NOTES DATA1DATA2\\nJSON:\\n{\\n\"customerId\": \"00022ABRIGHT FUTURE\",\\n\"companyName\": \"BRIGHT FUTURE\",\\n\"accountCode\": \"000022345002334455\",\\n\"statusFlag\": \"S\",\\n\"address\": \"MAIN STREET-\",\\n\"city\": \"CHICAGO\",\\n\"stateCountry\": \"ILUSA\",\\n\"numericData\": [1000000012,23,340,450,560,670,780,890]\\n\"occupation\": \"STUDENT\",\\n\"notes\": \"ACADEMIC NOTES\",\\n\"extraData\": \"DATA1DATA2\"\\n}\\n\\nFlatFile: 00023ABLUE SKY 000023990003445566 S OAK AVENUE--AUSTIN----TXUSA-------100000001200000002300000003400000004500000005600000006700000007800000008900000009100000010110000011120000012DESIGNER CREATIVE NOTES DATA1DATA2\\nJSON:\\n{\\n\"customerId\": \"00023ABLUE SKY\",\\n\"companyName\": \"BLUE SKY\",\\n\"accountCode\": \"000023990003445566\",\\n\"statusFlag\": \"S\",\\n\"address\": \"OAK AVENUE--\",\\n\"city\": \"AUSTIN\",\\n\"stateCountry\": \"TXUSA\",\\n\"numericData\": [1000000012,23,340,450,560,670,780,890]\\n\"occupation\": \"DESIGNER\",\\n\"notes\": \"CREATIVE NOTES\",\\n\"extraData\": \"DATA1DATA2\"\\n}\\n\\nFlatFile: 00024AGREEN EARTH 000024111004455677 S PINE ROAD---DENVER----COUSA-------100000001200000002300000003400000004500000005600000006700000007800000008900000009100000010110000011120000012FARMER ECOLOGICAL NOTES DATA1DATA2\\nJSON:\\n{\\n\"customerId\": \"00024AGREEN EARTH\",\\n\"companyName\": \"GREEN EARTH\",\\n\"accountCode\": \"000024111004455677\",\\n\"statusFlag\": \"S\",\\n\"address\": \"PINE ROAD---\",\\n\"city\": \"DENVER\",\\n\"stateCountry\": \"COUSA\",\\n\"numericData\": [1000000012,23,340,450,560,670,780,890]\\n\"occupation\": \"FARMER\",\\n\"notes\": \"ECOLOGICAL NOTES\",\\n\"extraData\": \"DATA1DATA2\"\\n}\\n\\nFlatFile: 00025ANEW HORIZON 000025222005566778 S MAIN STREET-PHOENIX---AZUSA-------100000001200000002300000003400000004500000005600000006700000007800000008900000009100000010110000011120000012CONSULTANT BUSINESS NOTES DATA1DATA2\\nJSON:\\n{\\n\"customerId\": \"00025ANEW HORIZON\",\\n\"companyName\": \"NEW HORIZON\",\\n\"accountCode\": \"000025222005566778\",\\n\"statusFlag\": \"S\",\\n\"address\": \"MAIN STREET-\",\\n\"city\": \"PHOENIX\",\\n\"stateCountry\": \"AZUSA\",\\n\"numericData\": [1000000012,23,340,450,560,670,780,890]\\n\"occupation\": \"CONSULTANT\",\\n\"notes\": \"BUSINESS NOTES\",\\n\"extraData\": \"DATA1DATA2\"\\n}\\n\\nFlatFile: 00026ALONGITUDE 000026333006677889 S OAK AVENUE--ATLANTA---GAUSA-------100000001200000002300000003400000004500000005600000006700000007800000008900000009100000010110000011120000012ANALYST FINANCE NOTES DATA1DATA2\\nJSON:\\n{\\n\"customerId\": \"00026ALONGITUDE\",\\n\"companyName\": \"LONGITUDE\",\\n\"accountCode\": \"000026333006677889\",\\n\"statusFlag\": \"S\",\\n\"address\": \"OAK AVENUE--\",\\n\"city\": \"ATLANTA\",\\n\"stateCountry\": \"GAUSA\",\\n\"numericData\": [1000000012,23,340,450,560,670,780,890]\\n\"occupation\": \"ANALYST\",\\n\"notes\": \"FINANCE NOTES\",\\n\"extraData\": \"DATA1DATA2\"\\n}\\n\\nFlatFile: 00027AVERITAS 000027444007788990 S PINE ROAD---DENVER----COUSA-------100000001200000002300000003400000004500000005600000006700000007800000008900000009100000010110000011120000012ACCOUNTANT TAX NOTES DATA1DATA2\\nJSON:\\n{\\n\"customerId\": \"00027AVERITAS\",\\n\"companyName\": \"VERITAS\",\\n\"accountCode\": \"000027444007788990\",\\n\"statusFlag\": \"S\",\\n\"address\": \"PINE ROAD---\",\\n\"city\": \"DENVER\",\\n\"stateCountry\": \"COUSA\",\\n\"numericData\": [1000000012,23,340,450,560,670,780,890]\\n\"occupation\": \"ACCOUNTANT\",\\n\"notes\": \"TAX NOTES\",\\n\"extraData\": \"DATA1DATA2\"\\n}\\n\\nFlatFile: 00028ACONCORD 000028555008899001 S MAIN STREET-SAN FRANCISCOCAUSA-------100000001200000002300000003400000004500000005600000006700000007800000008900000009100000010110000011120000012ENGINEER TECH NOTES DATA1DATA2\\nJSON:\\n{\\n\"customerId\": \"00028ACONCORD\",\\n\"companyName\": \"CONCORD\",\\n\"accountCode\": \"000028555008899001\",\\n\"statusFlag\": \"S\",\\n\"address\": \"MAIN STREET-\",\\n\"city\": \"SAN FRANCISCO\",\\n\"stateCountry\": \"CAUSA\",\\n\"numericData\": [1000000012,23,340,450,560,670,780,890]\\n\"occupation\": \"ENGINEER\",\\n\"notes\": \"TECH NOTES\",\\n\"extraData\": \"DATA1DATA2\"\\n}\\n\\nFlatFile: 00029ASUNRISE INC 000029666009900112 S OAK AVENUE--BOSTON----CAMA--------100000001200000002300000003400000004500000005600000006700000007800000008900000009100000010110000011120000012MANAGER SALES NOTES DATA1DATA2\\nJSON:\\n{\\n\"customerId\": \"00029ASUNRISE INC\",\\n\"companyName\": \"SUNRISE INC\",\\n\"accountCode\": \"000029666009900112\",\\n\"statusFlag\": \"S\",\\n\"address\": \"OAK AVENUE--\",\\n\"city\": \"BOSTON\",\\n\"stateCountry\": \"CAMA\",\\n\"numericData\": [1000000012,23,340,450,560,670,780,890]\\n\"occupation\": \"MANAGER\",\\n\"notes\": \"SALES NOTES\",\\n\"extraData\": \"DATA1DATA2\"\\n}\\n\\nFlatFile: 00030ASTARLIGHT 000030777001011223 S PINE ROAD---PHOENIX---AZUSA-------100000001200000002300000003400000004500000005600000006700000007800000008900000009100000010110000011120000012ENGINEER DESIGN NOTES DATA1DATA2\\nJSON:\\n{\\n\"customerId\": \"00030ASTARLIGHT\",\\n\"companyName\": \"STARLIGHT\",\\n\"accountCode\": \"000030777001011223\",\\n\"statusFlag\": \"S\",\\n\"address\": \"PINE ROAD---\",\\n\"city\": \"PHOENIX\",\\n\"stateCountry\": \"AZUSA\",\\n\"numericData\": [1000000012,23,340,450,560,670,780,890]\\n\"occupation\": \"ENGINEER\",\\n\"notes\": \"DESIGN NOTES\",\\n\"extraData\": \"DATA1DATA2\"\\n}\\nFlatFile: 00031AFUTURE VISION 000031888001122334 S MAIN STREET-CHICAGO---ILUSA-------100000001200000002300000003400000004500000005600000006700000007800000008900000009100000010110000011120000012ENGINEER VISIONARY NOTES DATA1DATA2\\nJSON:\\n{\\n\"customerId\": \"00031AFUTURE VISION\",\\n\"companyName\": \"FUTURE VISION\",\\n\"accountCode\": \"000031888001122334\",\\n\"statusFlag\": \"S\",\\n\"address\": \"MAIN STREET-\",\\n\"city\": \"CHICAGO\",\\n\"stateCountry\": \"ILUSA\",\\n\"numericData\": [1000000012,23,340,450,560,670,780,890]\\n\"occupation\": \"ENGINEER\",\\n\"notes\": \"VISIONARY NOTES\",\\n\"extraData\": \"DATA1DATA2\"\\n}\\n\\nFlatFile: 00032AGRAND TECH 000032999002233445 S OAK AVENUE--DALLAS----TXUSA-------100000001200000002300000003400000004500000005600000006700000007800000008900000009100000010110000011120000012MANAGER GRAND NOTES DATA1DATA2\\nJSON:\\n{\\n\"customerId\": \"00032AGRAND TECH\",\\n\"companyName\": \"GRAND TECH\",\\n\"accountCode\": \"000032999002233445\",\\n\"statusFlag\": \"S\",\\n\"address\": \"OAK AVENUE--\",\\n\"city\": \"DALLAS\",\\n\"stateCountry\": \"TXUSA\",\\n\"numericData\": [1000000012,23,340,450,560,670,780,890]\\n\"occupation\": \"MANAGER\",\\n\"notes\": \"GRAND NOTES\",\\n\"extraData\": \"DATA1DATA2\"\\n}\\n\\nFlatFile: 00033AOPEN SKY 000033111003344556 S PINE ROAD---AUSTIN----TXUSA-------100000001200000002300000003400000004500000005600000006700000007800000008900000009100000010110000011120000012ANALYST SKY NOTES DATA1DATA2\\nJSON:\\n{\\n\"customerId\": \"00033AOPEN SKY\",\\n\"companyName\": \"OPEN SKY\",\\n\"accountCode\": \"000033111003344556\",\\n\"statusFlag\": \"S\",\\n\"address\": \"PINE ROAD---\",\\n\"city\": \"AUSTIN\",\\n\"stateCountry\": \"TXUSA\",\\n\"numericData\": [1000000012,23,340,450,560,670,780,890]\\n\"occupation\": \"ANALYST\",\\n\"notes\": \"SKY NOTES\",\\n\"extraData\": \"DATA1DATA2\"\\n}\\n\\nFlatFile: 00034ADEEP BLUE 000034222004455667 S MAIN STREET-ATLANTA---GAUSA-------100000001200000002300000003400000004500000005600000006700000007800000008900000009100000010110000011120000012SCIENCE OFFICER TECH NOTES DATA1DATA2\\nJSON:\\n{\\n\"customerId\": \"00034ADEEP BLUE\",\\n\"companyName\": \"DEEP BLUE\",\\n\"accountCode\": \"000034222004455667\",\\n\"statusFlag\": \"S\",\\n\"address\": \"MAIN STREET-\",\\n\"city\": \"ATLANTA\",\\n\"stateCountry\": \"GAUSA\",\\n\"numericData\": [1000000012,23,340,450,560,670,780,890]\\n\"occupation\": \"SCIENCE OFFICER\",\\n\"notes\": \"TECH NOTES\",\\n\"extraData\": \"DATA1DATA2\"\\n}\\n\\nFlatFile: 00035AGOLDEN GATE 000035333005566778 S OAK AVENUE--DENVER----COUSA-------100000001200000002300000003400000004500000005600000006700000007800000008900000009100000010110000011120000012ENGINEER GOLDEN NOTES DATA1DATA2\\nJSON:\\n{\\n\"customerId\": \"00035AGOLDEN GATE\",\\n\"companyName\": \"GOLDEN GATE\",\\n\"accountCode\": \"000035333005566778\",\\n\"statusFlag\": \"S\",\\n\"address\": \"OAK AVENUE--\",\\n\"city\": \"DENVER\",\\n\"stateCountry\": \"COUSA\",\\n\"numericData\": [1000000012,23,340,450,560,670,780,890]\\n\"occupation\": \"ENGINEER\",\\n\"notes\": \"GOLDEN NOTES\",\\n\"extraData\": \"DATA1DATA2\"\\n}\\n\\nFlatFile: 00036APLATINUM 000036444006677889 S PINE ROAD---PHOENIX---AZUSA-------100000001200000002300000003400000004500000005600000006700000007800000008900000009100000010110000011120000012PROGRAMMER PLATINUM NOTES DATA1DATA2\\nJSON:\\n{\\n\"customerId\": \"00036APLATINUM\",\\n\"companyName\": \"PLATINUM\",\\n\"accountCode\": \"000036444006677889\",\\n\"statusFlag\": \"S\",\\n\"address\": \"PINE ROAD---\",\\n\"city\": \"PHOENIX\",\\n\"stateCountry\": \"AZUSA\",\\n\"numericData\": [1000000012,23,340,450,560,670,780,890]\\n\"occupation\": \"PROGRAMMER\",\\n\"notes\": \"PLATINUM NOTES\",\\n\"extraData\": \"DATA1DATA2\"\\n}\\n\\nFlatFile: 00037ASILVER STAR 000037555007788990 S MAIN STREET-SAN FRANCISCOCAUSA-------100000001200000002300000003400000004500000005600000006700000007800000008900000009100000010110000011120000012MANAGER SILVER NOTES DATA1DATA2\\nJSON:\\n{\\n\"customerId\": \"00037ASILVER STAR\",\\n\"companyName\": \"SILVER STAR\",\\n\"accountCode\": \"000037555007788990\",\\n\"statusFlag\": \"S\",\\n\"address\": \"MAIN STREET-\",\\n\"city\": \"SAN FRANCISCO\",\\n\"stateCountry\": \"CAUSA\",\\n\"numericData\": [1000000012,23,340,450,560,670,780,890]\\n\"occupation\": \"MANAGER\",\\n\"notes\": \"SILVER NOTES\",\\n\"extraData\": \"DATA1DATA2\"\\n}')]"
      ]
     },
     "execution_count": 52,
     "metadata": {},
     "output_type": "execute_result"
    }
   ],
   "source": [
    "docs"
   ]
  },
  {
   "cell_type": "code",
   "execution_count": 53,
   "id": "4f1ea507",
   "metadata": {},
   "outputs": [],
   "source": [
    "import os\n",
    "from  dotenv import load_dotenv\n",
    "load_dotenv()\n",
    "os.environ['OPENAI_API_KEY']=os.getenv(\"OPENAI_API_KEY\")"
   ]
  },
  {
   "cell_type": "code",
   "execution_count": 54,
   "id": "c8729e17",
   "metadata": {},
   "outputs": [],
   "source": [
    "import os\n",
    "from  dotenv import load_dotenv\n",
    "load_dotenv()\n",
    "os.environ['OPENAI_API_KEY']=os.getenv(\"OPENAI_API_KEY\")"
   ]
  },
  {
   "cell_type": "code",
   "execution_count": 9,
   "id": "22ba0736",
   "metadata": {},
   "outputs": [],
   "source": [
    "# SPLITING THE DATA"
   ]
  },
  {
   "cell_type": "code",
   "execution_count": 55,
   "id": "6461a709",
   "metadata": {},
   "outputs": [],
   "source": [
    "from langchain.text_splitter import RecursiveCharacterTextSplitter\n",
    "\n",
    "\n",
    "text_splitter=RecursiveCharacterTextSplitter(chunk_size=1000,chunk_overlap=200)"
   ]
  },
  {
   "cell_type": "code",
   "execution_count": 56,
   "id": "5c368cbd",
   "metadata": {},
   "outputs": [],
   "source": [
    "chunk_documents=text_splitter.split_documents(docs)"
   ]
  },
  {
   "cell_type": "code",
   "execution_count": 15,
   "id": "408a8204",
   "metadata": {},
   "outputs": [
    {
     "name": "stdout",
     "output_type": "stream",
     "text": [
      "Collecting langchain-ollama\n",
      "  Downloading langchain_ollama-0.3.8-py3-none-any.whl.metadata (2.1 kB)\n",
      "Collecting ollama<1.0.0,>=0.5.3 (from langchain-ollama)\n",
      "  Downloading ollama-0.5.4-py3-none-any.whl.metadata (4.3 kB)\n",
      "Collecting langchain-core<1.0.0,>=0.3.76 (from langchain-ollama)\n",
      "  Downloading langchain_core-0.3.76-py3-none-any.whl.metadata (3.7 kB)\n",
      "Collecting langsmith>=0.3.45 (from langchain-core<1.0.0,>=0.3.76->langchain-ollama)\n",
      "  Downloading langsmith-0.4.29-py3-none-any.whl.metadata (14 kB)\n",
      "Requirement already satisfied: tenacity!=8.4.0,<10.0.0,>=8.1.0 in c:\\users\\krish sharma\\appdata\\local\\programs\\python\\python310\\lib\\site-packages (from langchain-core<1.0.0,>=0.3.76->langchain-ollama) (9.1.2)\n",
      "Collecting jsonpatch<2.0,>=1.33 (from langchain-core<1.0.0,>=0.3.76->langchain-ollama)\n",
      "  Using cached jsonpatch-1.33-py2.py3-none-any.whl.metadata (3.0 kB)\n",
      "Collecting PyYAML>=5.3 (from langchain-core<1.0.0,>=0.3.76->langchain-ollama)\n",
      "  Downloading PyYAML-6.0.2-cp310-cp310-win_amd64.whl.metadata (2.1 kB)\n",
      "Requirement already satisfied: typing-extensions>=4.7 in c:\\users\\krish sharma\\appdata\\roaming\\python\\python310\\site-packages (from langchain-core<1.0.0,>=0.3.76->langchain-ollama) (4.14.1)\n",
      "Requirement already satisfied: packaging>=23.2 in c:\\users\\krish sharma\\appdata\\roaming\\python\\python310\\site-packages (from langchain-core<1.0.0,>=0.3.76->langchain-ollama) (25.0)\n",
      "Collecting pydantic>=2.7.4 (from langchain-core<1.0.0,>=0.3.76->langchain-ollama)\n",
      "  Downloading pydantic-2.11.9-py3-none-any.whl.metadata (68 kB)\n",
      "Collecting jsonpointer>=1.9 (from jsonpatch<2.0,>=1.33->langchain-core<1.0.0,>=0.3.76->langchain-ollama)\n",
      "  Using cached jsonpointer-3.0.0-py2.py3-none-any.whl.metadata (2.3 kB)\n",
      "Collecting httpx>=0.27 (from ollama<1.0.0,>=0.5.3->langchain-ollama)\n",
      "  Using cached httpx-0.28.1-py3-none-any.whl.metadata (7.1 kB)\n",
      "Collecting anyio (from httpx>=0.27->ollama<1.0.0,>=0.5.3->langchain-ollama)\n",
      "  Downloading anyio-4.10.0-py3-none-any.whl.metadata (4.0 kB)\n",
      "Requirement already satisfied: certifi in c:\\users\\krish sharma\\appdata\\local\\programs\\python\\python310\\lib\\site-packages (from httpx>=0.27->ollama<1.0.0,>=0.5.3->langchain-ollama) (2025.7.14)\n",
      "Collecting httpcore==1.* (from httpx>=0.27->ollama<1.0.0,>=0.5.3->langchain-ollama)\n",
      "  Downloading httpcore-1.0.9-py3-none-any.whl.metadata (21 kB)\n",
      "Requirement already satisfied: idna in c:\\users\\krish sharma\\appdata\\local\\programs\\python\\python310\\lib\\site-packages (from httpx>=0.27->ollama<1.0.0,>=0.5.3->langchain-ollama) (3.10)\n",
      "Collecting h11>=0.16 (from httpcore==1.*->httpx>=0.27->ollama<1.0.0,>=0.5.3->langchain-ollama)\n",
      "  Downloading h11-0.16.0-py3-none-any.whl.metadata (8.3 kB)\n",
      "Collecting orjson>=3.9.14 (from langsmith>=0.3.45->langchain-core<1.0.0,>=0.3.76->langchain-ollama)\n",
      "  Downloading orjson-3.11.3-cp310-cp310-win_amd64.whl.metadata (43 kB)\n",
      "Collecting requests-toolbelt>=1.0.0 (from langsmith>=0.3.45->langchain-core<1.0.0,>=0.3.76->langchain-ollama)\n",
      "  Using cached requests_toolbelt-1.0.0-py2.py3-none-any.whl.metadata (14 kB)\n",
      "Requirement already satisfied: requests>=2.0.0 in c:\\users\\krish sharma\\appdata\\local\\programs\\python\\python310\\lib\\site-packages (from langsmith>=0.3.45->langchain-core<1.0.0,>=0.3.76->langchain-ollama) (2.32.4)\n",
      "Collecting zstandard>=0.23.0 (from langsmith>=0.3.45->langchain-core<1.0.0,>=0.3.76->langchain-ollama)\n",
      "  Downloading zstandard-0.25.0-cp310-cp310-win_amd64.whl.metadata (3.3 kB)\n",
      "Collecting annotated-types>=0.6.0 (from pydantic>=2.7.4->langchain-core<1.0.0,>=0.3.76->langchain-ollama)\n",
      "  Using cached annotated_types-0.7.0-py3-none-any.whl.metadata (15 kB)\n",
      "Collecting pydantic-core==2.33.2 (from pydantic>=2.7.4->langchain-core<1.0.0,>=0.3.76->langchain-ollama)\n",
      "  Downloading pydantic_core-2.33.2-cp310-cp310-win_amd64.whl.metadata (6.9 kB)\n",
      "Collecting typing-inspection>=0.4.0 (from pydantic>=2.7.4->langchain-core<1.0.0,>=0.3.76->langchain-ollama)\n",
      "  Using cached typing_inspection-0.4.1-py3-none-any.whl.metadata (2.6 kB)\n",
      "Requirement already satisfied: charset_normalizer<4,>=2 in c:\\users\\krish sharma\\appdata\\local\\programs\\python\\python310\\lib\\site-packages (from requests>=2.0.0->langsmith>=0.3.45->langchain-core<1.0.0,>=0.3.76->langchain-ollama) (3.4.2)\n",
      "Requirement already satisfied: urllib3<3,>=1.21.1 in c:\\users\\krish sharma\\appdata\\local\\programs\\python\\python310\\lib\\site-packages (from requests>=2.0.0->langsmith>=0.3.45->langchain-core<1.0.0,>=0.3.76->langchain-ollama) (2.5.0)\n",
      "Requirement already satisfied: exceptiongroup>=1.0.2 in c:\\users\\krish sharma\\appdata\\roaming\\python\\python310\\site-packages (from anyio->httpx>=0.27->ollama<1.0.0,>=0.5.3->langchain-ollama) (1.3.0)\n",
      "Collecting sniffio>=1.1 (from anyio->httpx>=0.27->ollama<1.0.0,>=0.5.3->langchain-ollama)\n",
      "  Using cached sniffio-1.3.1-py3-none-any.whl.metadata (3.9 kB)\n",
      "Downloading langchain_ollama-0.3.8-py3-none-any.whl (25 kB)\n",
      "Downloading langchain_core-0.3.76-py3-none-any.whl (447 kB)\n",
      "Using cached jsonpatch-1.33-py2.py3-none-any.whl (12 kB)\n",
      "Downloading ollama-0.5.4-py3-none-any.whl (13 kB)\n",
      "Using cached httpx-0.28.1-py3-none-any.whl (73 kB)\n",
      "Downloading httpcore-1.0.9-py3-none-any.whl (78 kB)\n",
      "Downloading h11-0.16.0-py3-none-any.whl (37 kB)\n",
      "Using cached jsonpointer-3.0.0-py2.py3-none-any.whl (7.6 kB)\n",
      "Downloading langsmith-0.4.29-py3-none-any.whl (386 kB)\n",
      "Downloading pydantic-2.11.9-py3-none-any.whl (444 kB)\n",
      "Downloading pydantic_core-2.33.2-cp310-cp310-win_amd64.whl (2.0 MB)\n",
      "   ---------------------------------------- 0.0/2.0 MB ? eta -:--:--\n",
      "   --------------------- ------------------ 1.0/2.0 MB 5.6 MB/s eta 0:00:01\n",
      "   ---------------------------------------- 2.0/2.0 MB 5.1 MB/s  0:00:00\n",
      "Using cached annotated_types-0.7.0-py3-none-any.whl (13 kB)\n",
      "Downloading orjson-3.11.3-cp310-cp310-win_amd64.whl (131 kB)\n",
      "Downloading PyYAML-6.0.2-cp310-cp310-win_amd64.whl (161 kB)\n",
      "Using cached requests_toolbelt-1.0.0-py2.py3-none-any.whl (54 kB)\n",
      "Using cached typing_inspection-0.4.1-py3-none-any.whl (14 kB)\n",
      "Downloading zstandard-0.25.0-cp310-cp310-win_amd64.whl (506 kB)\n",
      "Downloading anyio-4.10.0-py3-none-any.whl (107 kB)\n",
      "Using cached sniffio-1.3.1-py3-none-any.whl (10 kB)\n",
      "Installing collected packages: zstandard, typing-inspection, sniffio, PyYAML, pydantic-core, orjson, jsonpointer, h11, annotated-types, requests-toolbelt, pydantic, jsonpatch, httpcore, anyio, httpx, ollama, langsmith, langchain-core, langchain-ollama\n",
      "\n",
      "   ----------------------------------------  0/19 [zstandard]\n",
      "   -- -------------------------------------  1/19 [typing-inspection]\n",
      "   -- -------------------------------------  1/19 [typing-inspection]\n",
      "   -- -------------------------------------  1/19 [typing-inspection]\n",
      "   -- -------------------------------------  1/19 [typing-inspection]\n",
      "   -- -------------------------------------  1/19 [typing-inspection]\n",
      "   ---- -----------------------------------  2/19 [sniffio]\n",
      "   ---- -----------------------------------  2/19 [sniffio]\n",
      "   ---- -----------------------------------  2/19 [sniffio]\n",
      "   ---- -----------------------------------  2/19 [sniffio]\n",
      "   ------ ---------------------------------  3/19 [PyYAML]\n",
      "   ------ ---------------------------------  3/19 [PyYAML]\n",
      "   ------ ---------------------------------  3/19 [PyYAML]\n",
      "   ------ ---------------------------------  3/19 [PyYAML]\n",
      "   ------ ---------------------------------  3/19 [PyYAML]\n",
      "   ------ ---------------------------------  3/19 [PyYAML]\n",
      "   -------- -------------------------------  4/19 [pydantic-core]\n",
      "   ------------ ---------------------------  6/19 [jsonpointer]\n",
      "   -------------- -------------------------  7/19 [h11]\n",
      "   -------------- -------------------------  7/19 [h11]\n",
      "   -------------- -------------------------  7/19 [h11]\n",
      "   -------------- -------------------------  7/19 [h11]\n",
      "   ---------------- -----------------------  8/19 [annotated-types]\n",
      "   ------------------ ---------------------  9/19 [requests-toolbelt]\n",
      "   ------------------ ---------------------  9/19 [requests-toolbelt]\n",
      "   ------------------ ---------------------  9/19 [requests-toolbelt]\n",
      "   ------------------ ---------------------  9/19 [requests-toolbelt]\n",
      "   ------------------ ---------------------  9/19 [requests-toolbelt]\n",
      "   ------------------ ---------------------  9/19 [requests-toolbelt]\n",
      "   --------------------- ------------------ 10/19 [pydantic]\n",
      "   --------------------- ------------------ 10/19 [pydantic]\n",
      "   --------------------- ------------------ 10/19 [pydantic]\n",
      "   --------------------- ------------------ 10/19 [pydantic]\n",
      "   --------------------- ------------------ 10/19 [pydantic]\n",
      "   --------------------- ------------------ 10/19 [pydantic]\n",
      "   --------------------- ------------------ 10/19 [pydantic]\n",
      "   --------------------- ------------------ 10/19 [pydantic]\n",
      "   --------------------- ------------------ 10/19 [pydantic]\n",
      "   --------------------- ------------------ 10/19 [pydantic]\n",
      "   --------------------- ------------------ 10/19 [pydantic]\n",
      "   --------------------- ------------------ 10/19 [pydantic]\n",
      "   --------------------- ------------------ 10/19 [pydantic]\n",
      "   --------------------- ------------------ 10/19 [pydantic]\n",
      "   --------------------- ------------------ 10/19 [pydantic]\n",
      "   --------------------- ------------------ 10/19 [pydantic]\n",
      "   --------------------- ------------------ 10/19 [pydantic]\n",
      "   --------------------- ------------------ 10/19 [pydantic]\n",
      "   --------------------- ------------------ 10/19 [pydantic]\n",
      "   ----------------------- ---------------- 11/19 [jsonpatch]\n",
      "   ------------------------- -------------- 12/19 [httpcore]\n",
      "   ------------------------- -------------- 12/19 [httpcore]\n",
      "   ------------------------- -------------- 12/19 [httpcore]\n",
      "   ------------------------- -------------- 12/19 [httpcore]\n",
      "   --------------------------- ------------ 13/19 [anyio]\n",
      "   --------------------------- ------------ 13/19 [anyio]\n",
      "   --------------------------- ------------ 13/19 [anyio]\n",
      "   --------------------------- ------------ 13/19 [anyio]\n",
      "   --------------------------- ------------ 13/19 [anyio]\n",
      "   --------------------------- ------------ 13/19 [anyio]\n",
      "   ----------------------------- ---------- 14/19 [httpx]\n",
      "   ----------------------------- ---------- 14/19 [httpx]\n",
      "   ----------------------------- ---------- 14/19 [httpx]\n",
      "   ----------------------------- ---------- 14/19 [httpx]\n",
      "   ------------------------------- -------- 15/19 [ollama]\n",
      "   --------------------------------- ------ 16/19 [langsmith]\n",
      "   --------------------------------- ------ 16/19 [langsmith]\n",
      "   --------------------------------- ------ 16/19 [langsmith]\n",
      "   --------------------------------- ------ 16/19 [langsmith]\n",
      "   --------------------------------- ------ 16/19 [langsmith]\n",
      "   --------------------------------- ------ 16/19 [langsmith]\n",
      "   --------------------------------- ------ 16/19 [langsmith]\n",
      "   --------------------------------- ------ 16/19 [langsmith]\n",
      "   --------------------------------- ------ 16/19 [langsmith]\n",
      "   ----------------------------------- ---- 17/19 [langchain-core]\n",
      "   ----------------------------------- ---- 17/19 [langchain-core]\n",
      "   ----------------------------------- ---- 17/19 [langchain-core]\n",
      "   ----------------------------------- ---- 17/19 [langchain-core]\n",
      "   ----------------------------------- ---- 17/19 [langchain-core]\n",
      "   ----------------------------------- ---- 17/19 [langchain-core]\n",
      "   ----------------------------------- ---- 17/19 [langchain-core]\n",
      "   ----------------------------------- ---- 17/19 [langchain-core]\n",
      "   ----------------------------------- ---- 17/19 [langchain-core]\n",
      "   ----------------------------------- ---- 17/19 [langchain-core]\n",
      "   ----------------------------------- ---- 17/19 [langchain-core]\n",
      "   ----------------------------------- ---- 17/19 [langchain-core]\n",
      "   ----------------------------------- ---- 17/19 [langchain-core]\n",
      "   ----------------------------------- ---- 17/19 [langchain-core]\n",
      "   ----------------------------------- ---- 17/19 [langchain-core]\n",
      "   ----------------------------------- ---- 17/19 [langchain-core]\n",
      "   ----------------------------------- ---- 17/19 [langchain-core]\n",
      "   ----------------------------------- ---- 17/19 [langchain-core]\n",
      "   ----------------------------------- ---- 17/19 [langchain-core]\n",
      "   ----------------------------------- ---- 17/19 [langchain-core]\n",
      "   ----------------------------------- ---- 17/19 [langchain-core]\n",
      "   ----------------------------------- ---- 17/19 [langchain-core]\n",
      "   ----------------------------------- ---- 17/19 [langchain-core]\n",
      "   ----------------------------------- ---- 17/19 [langchain-core]\n",
      "   ----------------------------------- ---- 17/19 [langchain-core]\n",
      "   ----------------------------------- ---- 17/19 [langchain-core]\n",
      "   ----------------------------------- ---- 17/19 [langchain-core]\n",
      "   ----------------------------------- ---- 17/19 [langchain-core]\n",
      "   ----------------------------------- ---- 17/19 [langchain-core]\n",
      "   ----------------------------------- ---- 17/19 [langchain-core]\n",
      "   ----------------------------------- ---- 17/19 [langchain-core]\n",
      "   ----------------------------------- ---- 17/19 [langchain-core]\n",
      "   ----------------------------------- ---- 17/19 [langchain-core]\n",
      "   ----------------------------------- ---- 17/19 [langchain-core]\n",
      "   ----------------------------------- ---- 17/19 [langchain-core]\n",
      "   ----------------------------------- ---- 17/19 [langchain-core]\n",
      "   ----------------------------------- ---- 17/19 [langchain-core]\n",
      "   ----------------------------------- ---- 17/19 [langchain-core]\n",
      "   ----------------------------------- ---- 17/19 [langchain-core]\n",
      "   ----------------------------------- ---- 17/19 [langchain-core]\n",
      "   ----------------------------------- ---- 17/19 [langchain-core]\n",
      "   ----------------------------------- ---- 17/19 [langchain-core]\n",
      "   ----------------------------------- ---- 17/19 [langchain-core]\n",
      "   ----------------------------------- ---- 17/19 [langchain-core]\n",
      "   ------------------------------------- -- 18/19 [langchain-ollama]\n",
      "   ---------------------------------------- 19/19 [langchain-ollama]\n",
      "\n",
      "Successfully installed PyYAML-6.0.2 annotated-types-0.7.0 anyio-4.10.0 h11-0.16.0 httpcore-1.0.9 httpx-0.28.1 jsonpatch-1.33 jsonpointer-3.0.0 langchain-core-0.3.76 langchain-ollama-0.3.8 langsmith-0.4.29 ollama-0.5.4 orjson-3.11.3 pydantic-2.11.9 pydantic-core-2.33.2 requests-toolbelt-1.0.0 sniffio-1.3.1 typing-inspection-0.4.1 zstandard-0.25.0\n"
     ]
    },
    {
     "name": "stderr",
     "output_type": "stream",
     "text": [
      "WARNING: Ignoring invalid distribution -rotobuf (c:\\users\\krish sharma\\appdata\\local\\programs\\python\\python310\\lib\\site-packages)\n",
      "WARNING: Ignoring invalid distribution -rotobuf (c:\\users\\krish sharma\\appdata\\local\\programs\\python\\python310\\lib\\site-packages)\n",
      "WARNING: Ignoring invalid distribution -rotobuf (c:\\users\\krish sharma\\appdata\\local\\programs\\python\\python310\\lib\\site-packages)\n"
     ]
    }
   ],
   "source": [
    "!pip install langchain-ollama"
   ]
  },
  {
   "cell_type": "code",
   "execution_count": 57,
   "id": "7c58f920",
   "metadata": {},
   "outputs": [],
   "source": [
    "# vector embedding and Vector store\n",
    "from langchain_community.embeddings import OllamaEmbeddings\n",
    "embedding = OllamaEmbeddings(model=\"mistral\")"
   ]
  },
  {
   "cell_type": "code",
   "execution_count": 58,
   "id": "4e3e21e4",
   "metadata": {},
   "outputs": [],
   "source": [
    "from langchain_community.vectorstores import FAISS\n"
   ]
  },
  {
   "cell_type": "code",
   "execution_count": 59,
   "id": "15620a4c",
   "metadata": {},
   "outputs": [],
   "source": [
    "db=FAISS.from_documents(chunk_documents,OllamaEmbeddings(model='mistral'))"
   ]
  },
  {
   "cell_type": "code",
   "execution_count": null,
   "id": "6cbfca28",
   "metadata": {},
   "outputs": [],
   "source": [
    "# query=\"Suggest top Diabetologists in Maharashtra, including city and clinic/hospital names.\"\n",
    "\n",
    "input_legacy_record=\"00001AIBM              000445599000254205 S MIAMI BLVD--RALEIGH------NCUSA-------10000000120000000230000000340000000450000000560000000670000000780000000890000000910000001011000001112OCCUPATION                    NOTES               DATA1DATA2\"\n",
    "\n",
    "query=\"\"\"Convert legacy AS400 flat file records into JSON format.\n",
    "\n",
    "Example 1:\n",
    "\"FlatFile: 00001AIBM              000445599000254205 S MIAMI BLVD--RALEIGH------NCUSA-------100000001200000002300000003400000004500000005600000006700000007800000008900000009100000010110000011120000012OCCUPATION                    NOTES               DATA1DATA2\n",
    "JSON:\n",
    "{\n",
    "  \"customerId\": \"00001AIBM\",\n",
    "  \"companyName\": \"IBM\",\n",
    "  \"accountCode\": \"000445599000254205\",\n",
    "  \"statusFlag\": \"S\",\n",
    "  \"address\": \"MIAMI BLVD--\",\n",
    "  \"city\": \"RALEIGH\",\n",
    "  \"stateCountry\": \"NCUSA\",\n",
    "  \"numericData\": [1000000012, 23, 340, 450, 560, 670, 780, 890, 910, 1011, 1112, 120],\n",
    "  \"occupation\": \"OCCUPATION\",\n",
    "  \"notes\": \"NOTES\",\n",
    "  \"extraData\": \"DATA1DATA2\"\n",
    "}\n",
    "\n",
    "Example 2:\n",
    "FlatFile: 00002AWIDGET MAKERS    000002599000064206 S OAK AVENUE--LAX----------NYUSA-------100000001200000002300000003400000004500000005600000006700000007800000008900000009100000010110000011120000012WIDGET DESIGNER             WIDGET NOTES         DATA1DATA2\n",
    "JSON:\n",
    "{\n",
    "  \"customerId\": \"00002AWIDGET MAKERS\",\n",
    "  \"companyName\": \"WIDGET MAKERS\",\n",
    "  \"accountCode\": \"000002599000064206\",\n",
    "  \"statusFlag\": \"S\",\n",
    "  \"address\": \"OAK AVENUE--\",\n",
    "  \"city\": \"LAX\",\n",
    "  \"stateCountry\": \"NYUSA\",\n",
    "  \"numericData\": [1000000012, 23, 340, 450, 560, 670, 780, 890, 910, 1011, 1112, 120],\n",
    "  \"occupation\": \"WIDGET DESIGNER\",\n",
    "  \"notes\": \"WIDGET NOTES\",\n",
    "  \"extraData\": \"DATA1DATA2\"\n",
    "}\n",
    "\"\n",
    "Now convert this input record into JSON format:\n",
    "FlatFile: {input_legacy_record}\n",
    "JSON:\n",
    "\"\"\"\n",
    "result=db.similarity_search(query)"
   ]
  },
  {
   "cell_type": "code",
   "execution_count": 62,
   "id": "7f945e72",
   "metadata": {},
   "outputs": [
    {
     "data": {
      "text/plain": [
       "Document(id='8256ebc1-3ee6-4d1b-8adc-6baf1a139f54', metadata={'source': 'data.txt'}, page_content='FlatFile: 00023ABLUE SKY 000023990003445566 S OAK AVENUE--AUSTIN----TXUSA-------100000001200000002300000003400000004500000005600000006700000007800000008900000009100000010110000011120000012DESIGNER CREATIVE NOTES DATA1DATA2\\nJSON:\\n{\\n\"customerId\": \"00023ABLUE SKY\",\\n\"companyName\": \"BLUE SKY\",\\n\"accountCode\": \"000023990003445566\",\\n\"statusFlag\": \"S\",\\n\"address\": \"OAK AVENUE--\",\\n\"city\": \"AUSTIN\",\\n\"stateCountry\": \"TXUSA\",\\n\"numericData\": [1000000012,23,340,450,560,670,780,890]\\n\"occupation\": \"DESIGNER\",\\n\"notes\": \"CREATIVE NOTES\",\\n\"extraData\": \"DATA1DATA2\"\\n}')"
      ]
     },
     "execution_count": 62,
     "metadata": {},
     "output_type": "execute_result"
    }
   ],
   "source": [
    "result[1]"
   ]
  },
  {
   "cell_type": "code",
   "execution_count": 59,
   "id": "7e8f2acd",
   "metadata": {},
   "outputs": [
    {
     "name": "stdout",
     "output_type": "stream",
     "text": [
      "Dr. Vaishali Kasare â€“ Diabetology interest, 19 years\n",
      "  Location: Aundh, Pune :contentReference[oaicite:7]{index=7}\n",
      "\n",
      "Dr. Ravindra Singh â€“ Diabetology interest, 23 years\n",
      "  Location: Pimpri-Chinchwad, Pune :contentReference[oaicite:8]{index=8}\n",
      "\n",
      "Dr. Pratiksha Patil â€“ Diabetologist, 18 years\n",
      "  Location: Sakinaka, Mumbai :contentReference[oaicite:9]{index=9}\n",
      "\n",
      "Dr. Madhur G Maheshwari â€“ Diabetologist, 13 years\n",
      "  Location: Andheri West, Mumbai :contentReference[oaicite:10]{index=10}\n",
      "\n",
      "Dr. Harish V. Dhuri â€“ GP with diabetology interest, 28 years\n",
      "  Location: Goregaon West, Mumbai :contentReference[oaicite:11]{index=11}\n",
      "\n",
      "Dr. Pradeep Talwalkar â€“ Internal Medicine with diabetology interest, 48 years\n",
      "  Location: Mahim, Mumbai (S.L. Raheja Hospital) :contentReference[oaicite:12]{index=12}\n",
      "\n",
      "Dr. Kavita Rane â€“ GP with diabetology focus, 18 years\n",
      "  Location: Chembur, Mumbai :contentReference[oaicite:13]{index=13}\n"
     ]
    }
   ],
   "source": [
    "filtered = [r for r in result if \"Diabetologist\" in r.page_content]\n",
    "print(filtered[0].page_content if filtered else \"No neurologist found.\")"
   ]
  },
  {
   "cell_type": "code",
   "execution_count": null,
   "id": "c56aba59",
   "metadata": {},
   "outputs": [],
   "source": []
  }
 ],
 "metadata": {
  "kernelspec": {
   "display_name": "Python 3",
   "language": "python",
   "name": "python3"
  },
  "language_info": {
   "codemirror_mode": {
    "name": "ipython",
    "version": 3
   },
   "file_extension": ".py",
   "mimetype": "text/x-python",
   "name": "python",
   "nbconvert_exporter": "python",
   "pygments_lexer": "ipython3",
   "version": "3.13.1"
  }
 },
 "nbformat": 4,
 "nbformat_minor": 5
}
